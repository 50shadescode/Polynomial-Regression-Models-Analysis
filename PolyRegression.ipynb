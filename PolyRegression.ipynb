{
 "cells": [
  {
   "cell_type": "code",
   "execution_count": 2,
   "id": "b343eef6-b970-4095-9eec-6a6ac6b85c15",
   "metadata": {},
   "outputs": [],
   "source": [
    "import numpy as np\n",
    "import pandas as pd \n",
    "import seaborn as sns\n",
    "import matplotlib.pyplot as plt\n",
    "from sklearn.linear_model import LinearRegression\n",
    "from sklearn.model_selection import train_test_split\n",
    "from sklearn.preprocessing import PolynomialFeatures\n",
    "from sklearn.metrics import mean_absolute_error, mean_squared_error, r2_score"
   ]
  },
  {
   "cell_type": "markdown",
   "id": "c2f986fb-f722-42b3-8233-aff4588808d5",
   "metadata": {},
   "source": [
    "Load data "
   ]
  },
  {
   "cell_type": "code",
   "execution_count": 3,
   "id": "ce891708-8406-450c-be2f-4252497a0d30",
   "metadata": {},
   "outputs": [],
   "source": [
    "df = pd.read_csv(r\"C:\\Users\\cex\\Desktop\\Data sets\\50_Startups.csv\")"
   ]
  },
  {
   "cell_type": "markdown",
   "id": "849272f2-6032-442c-a44b-deae8d820537",
   "metadata": {},
   "source": [
    "Step 3: Exploring the data set"
   ]
  },
  {
   "cell_type": "code",
   "execution_count": 6,
   "id": "f068445f-b9b1-41d3-bcd7-4421b0f6bbbe",
   "metadata": {},
   "outputs": [
    {
     "name": "stdout",
     "output_type": "stream",
     "text": [
      "<class 'pandas.core.frame.DataFrame'>\n",
      "RangeIndex: 50 entries, 0 to 49\n",
      "Data columns (total 5 columns):\n",
      " #   Column           Non-Null Count  Dtype  \n",
      "---  ------           --------------  -----  \n",
      " 0   R&D Spend        50 non-null     float64\n",
      " 1   Administration   50 non-null     float64\n",
      " 2   Marketing Spend  50 non-null     float64\n",
      " 3   State            50 non-null     object \n",
      " 4   Profit           50 non-null     float64\n",
      "dtypes: float64(4), object(1)\n",
      "memory usage: 2.1+ KB\n"
     ]
    }
   ],
   "source": [
    "#involves displaying the dataset information \n",
    "df.info()  # Check structure of dataset"
   ]
  },
  {
   "cell_type": "code",
   "execution_count": 7,
   "id": "180299a0-ccef-4048-879a-884c10d904ed",
   "metadata": {},
   "outputs": [
    {
     "data": {
      "text/html": [
       "<div>\n",
       "<style scoped>\n",
       "    .dataframe tbody tr th:only-of-type {\n",
       "        vertical-align: middle;\n",
       "    }\n",
       "\n",
       "    .dataframe tbody tr th {\n",
       "        vertical-align: top;\n",
       "    }\n",
       "\n",
       "    .dataframe thead th {\n",
       "        text-align: right;\n",
       "    }\n",
       "</style>\n",
       "<table border=\"1\" class=\"dataframe\">\n",
       "  <thead>\n",
       "    <tr style=\"text-align: right;\">\n",
       "      <th></th>\n",
       "      <th>R&amp;D Spend</th>\n",
       "      <th>Administration</th>\n",
       "      <th>Marketing Spend</th>\n",
       "      <th>State</th>\n",
       "      <th>Profit</th>\n",
       "    </tr>\n",
       "  </thead>\n",
       "  <tbody>\n",
       "    <tr>\n",
       "      <th>0</th>\n",
       "      <td>165349.20</td>\n",
       "      <td>136897.80</td>\n",
       "      <td>471784.10</td>\n",
       "      <td>New York</td>\n",
       "      <td>192261.83</td>\n",
       "    </tr>\n",
       "    <tr>\n",
       "      <th>1</th>\n",
       "      <td>162597.70</td>\n",
       "      <td>151377.59</td>\n",
       "      <td>443898.53</td>\n",
       "      <td>California</td>\n",
       "      <td>191792.06</td>\n",
       "    </tr>\n",
       "    <tr>\n",
       "      <th>2</th>\n",
       "      <td>153441.51</td>\n",
       "      <td>101145.55</td>\n",
       "      <td>407934.54</td>\n",
       "      <td>Florida</td>\n",
       "      <td>191050.39</td>\n",
       "    </tr>\n",
       "    <tr>\n",
       "      <th>3</th>\n",
       "      <td>144372.41</td>\n",
       "      <td>118671.85</td>\n",
       "      <td>383199.62</td>\n",
       "      <td>New York</td>\n",
       "      <td>182901.99</td>\n",
       "    </tr>\n",
       "    <tr>\n",
       "      <th>4</th>\n",
       "      <td>142107.34</td>\n",
       "      <td>91391.77</td>\n",
       "      <td>366168.42</td>\n",
       "      <td>Florida</td>\n",
       "      <td>166187.94</td>\n",
       "    </tr>\n",
       "  </tbody>\n",
       "</table>\n",
       "</div>"
      ],
      "text/plain": [
       "   R&D Spend  Administration  Marketing Spend       State     Profit\n",
       "0  165349.20       136897.80        471784.10    New York  192261.83\n",
       "1  162597.70       151377.59        443898.53  California  191792.06\n",
       "2  153441.51       101145.55        407934.54     Florida  191050.39\n",
       "3  144372.41       118671.85        383199.62    New York  182901.99\n",
       "4  142107.34        91391.77        366168.42     Florida  166187.94"
      ]
     },
     "execution_count": 7,
     "metadata": {},
     "output_type": "execute_result"
    }
   ],
   "source": [
    "df.head()  # View first 5 rows"
   ]
  },
  {
   "cell_type": "code",
   "execution_count": 8,
   "id": "762b442a-8399-4b5d-95a7-a1c680edb57d",
   "metadata": {},
   "outputs": [
    {
     "data": {
      "text/html": [
       "<div>\n",
       "<style scoped>\n",
       "    .dataframe tbody tr th:only-of-type {\n",
       "        vertical-align: middle;\n",
       "    }\n",
       "\n",
       "    .dataframe tbody tr th {\n",
       "        vertical-align: top;\n",
       "    }\n",
       "\n",
       "    .dataframe thead th {\n",
       "        text-align: right;\n",
       "    }\n",
       "</style>\n",
       "<table border=\"1\" class=\"dataframe\">\n",
       "  <thead>\n",
       "    <tr style=\"text-align: right;\">\n",
       "      <th></th>\n",
       "      <th>R&amp;D Spend</th>\n",
       "      <th>Administration</th>\n",
       "      <th>Marketing Spend</th>\n",
       "      <th>Profit</th>\n",
       "    </tr>\n",
       "  </thead>\n",
       "  <tbody>\n",
       "    <tr>\n",
       "      <th>count</th>\n",
       "      <td>50.000000</td>\n",
       "      <td>50.000000</td>\n",
       "      <td>50.000000</td>\n",
       "      <td>50.000000</td>\n",
       "    </tr>\n",
       "    <tr>\n",
       "      <th>mean</th>\n",
       "      <td>73721.615600</td>\n",
       "      <td>121344.639600</td>\n",
       "      <td>211025.097800</td>\n",
       "      <td>112012.639200</td>\n",
       "    </tr>\n",
       "    <tr>\n",
       "      <th>std</th>\n",
       "      <td>45902.256482</td>\n",
       "      <td>28017.802755</td>\n",
       "      <td>122290.310726</td>\n",
       "      <td>40306.180338</td>\n",
       "    </tr>\n",
       "    <tr>\n",
       "      <th>min</th>\n",
       "      <td>0.000000</td>\n",
       "      <td>51283.140000</td>\n",
       "      <td>0.000000</td>\n",
       "      <td>14681.400000</td>\n",
       "    </tr>\n",
       "    <tr>\n",
       "      <th>25%</th>\n",
       "      <td>39936.370000</td>\n",
       "      <td>103730.875000</td>\n",
       "      <td>129300.132500</td>\n",
       "      <td>90138.902500</td>\n",
       "    </tr>\n",
       "    <tr>\n",
       "      <th>50%</th>\n",
       "      <td>73051.080000</td>\n",
       "      <td>122699.795000</td>\n",
       "      <td>212716.240000</td>\n",
       "      <td>107978.190000</td>\n",
       "    </tr>\n",
       "    <tr>\n",
       "      <th>75%</th>\n",
       "      <td>101602.800000</td>\n",
       "      <td>144842.180000</td>\n",
       "      <td>299469.085000</td>\n",
       "      <td>139765.977500</td>\n",
       "    </tr>\n",
       "    <tr>\n",
       "      <th>max</th>\n",
       "      <td>165349.200000</td>\n",
       "      <td>182645.560000</td>\n",
       "      <td>471784.100000</td>\n",
       "      <td>192261.830000</td>\n",
       "    </tr>\n",
       "  </tbody>\n",
       "</table>\n",
       "</div>"
      ],
      "text/plain": [
       "           R&D Spend  Administration  Marketing Spend         Profit\n",
       "count      50.000000       50.000000        50.000000      50.000000\n",
       "mean    73721.615600   121344.639600    211025.097800  112012.639200\n",
       "std     45902.256482    28017.802755    122290.310726   40306.180338\n",
       "min         0.000000    51283.140000         0.000000   14681.400000\n",
       "25%     39936.370000   103730.875000    129300.132500   90138.902500\n",
       "50%     73051.080000   122699.795000    212716.240000  107978.190000\n",
       "75%    101602.800000   144842.180000    299469.085000  139765.977500\n",
       "max    165349.200000   182645.560000    471784.100000  192261.830000"
      ]
     },
     "execution_count": 8,
     "metadata": {},
     "output_type": "execute_result"
    }
   ],
   "source": [
    "df.describe()  # Get summary statistics\n"
   ]
  },
  {
   "cell_type": "code",
   "execution_count": 9,
   "id": "66e331c8-fbf7-4f05-a899-6e7133408caf",
   "metadata": {},
   "outputs": [
    {
     "data": {
      "text/plain": [
       "R&D Spend          0\n",
       "Administration     0\n",
       "Marketing Spend    0\n",
       "State              0\n",
       "Profit             0\n",
       "dtype: int64"
      ]
     },
     "execution_count": 9,
     "metadata": {},
     "output_type": "execute_result"
    }
   ],
   "source": [
    "df.isnull().sum()  # Count missing values\n"
   ]
  },
  {
   "cell_type": "code",
   "execution_count": 10,
   "id": "5555aebe-3f6d-4c1e-b440-eae15d87d458",
   "metadata": {},
   "outputs": [
    {
     "data": {
      "text/plain": [
       "R&D Spend          49\n",
       "Administration     50\n",
       "Marketing Spend    48\n",
       "State               3\n",
       "Profit             50\n",
       "dtype: int64"
      ]
     },
     "execution_count": 10,
     "metadata": {},
     "output_type": "execute_result"
    }
   ],
   "source": [
    "df.nunique()  # Count unique values per column"
   ]
  },
  {
   "cell_type": "markdown",
   "id": "f0343a7f-79db-4077-9a76-1b24d149f9f6",
   "metadata": {},
   "source": [
    "Handling categorical data"
   ]
  },
  {
   "cell_type": "code",
   "execution_count": 13,
   "id": "81a77c95-7a2d-48a6-ab56-e857d38971f9",
   "metadata": {},
   "outputs": [
    {
     "name": "stdout",
     "output_type": "stream",
     "text": [
      "Index(['R&D Spend', 'Administration', 'Marketing Spend', 'Profit',\n",
      "       'State_Florida', 'State_New York'],\n",
      "      dtype='object')\n"
     ]
    }
   ],
   "source": [
    "print(df.columns)\n"
   ]
  },
  {
   "cell_type": "code",
   "execution_count": 14,
   "id": "c74d7bbc-0fed-45b2-80f9-90a8bf5783e6",
   "metadata": {},
   "outputs": [
    {
     "name": "stdout",
     "output_type": "stream",
     "text": [
      "R&D Spend          float64\n",
      "Administration     float64\n",
      "Marketing Spend    float64\n",
      "Profit             float64\n",
      "State_Florida         bool\n",
      "State_New York        bool\n",
      "dtype: object\n"
     ]
    }
   ],
   "source": [
    "print(df.dtypes)\n"
   ]
  },
  {
   "cell_type": "code",
   "execution_count": 15,
   "id": "38c42834-a38c-4392-9ff4-1a06fd3ca482",
   "metadata": {},
   "outputs": [
    {
     "name": "stdout",
     "output_type": "stream",
     "text": [
      "   R&D Spend  Administration  Marketing Spend     Profit  State_Florida  \\\n",
      "0  165349.20       136897.80        471784.10  192261.83          False   \n",
      "1  162597.70       151377.59        443898.53  191792.06          False   \n",
      "2  153441.51       101145.55        407934.54  191050.39           True   \n",
      "3  144372.41       118671.85        383199.62  182901.99          False   \n",
      "4  142107.34        91391.77        366168.42  166187.94           True   \n",
      "\n",
      "   State_New York  \n",
      "0            True  \n",
      "1           False  \n",
      "2           False  \n",
      "3            True  \n",
      "4           False  \n"
     ]
    }
   ],
   "source": [
    "print(df.head())  # Check if `State` exists in the dataset\n"
   ]
  },
  {
   "cell_type": "code",
   "execution_count": 16,
   "id": "19c3e30f-2340-4126-b3c7-13ff413f4872",
   "metadata": {},
   "outputs": [
    {
     "name": "stdout",
     "output_type": "stream",
     "text": [
      "Column 'State' is missing from the DataFrame.\n"
     ]
    }
   ],
   "source": [
    "if 'State' in df.columns:\n",
    "    df = pd.get_dummies(df, columns=['State'], drop_first=True)\n",
    "else:\n",
    "    print(\"Column 'State' is missing from the DataFrame.\")"
   ]
  },
  {
   "cell_type": "code",
   "execution_count": 17,
   "id": "a763082a-ef0d-4d55-8367-a2b760e2b459",
   "metadata": {},
   "outputs": [
    {
     "name": "stdout",
     "output_type": "stream",
     "text": [
      "   R&D Spend  Administration  Marketing Spend     Profit  State_Florida  \\\n",
      "0  165349.20       136897.80        471784.10  192261.83          False   \n",
      "1  162597.70       151377.59        443898.53  191792.06          False   \n",
      "2  153441.51       101145.55        407934.54  191050.39           True   \n",
      "3  144372.41       118671.85        383199.62  182901.99          False   \n",
      "4  142107.34        91391.77        366168.42  166187.94           True   \n",
      "\n",
      "   State_New York  \n",
      "0            True  \n",
      "1           False  \n",
      "2           False  \n",
      "3            True  \n",
      "4           False  \n",
      "Index(['R&D Spend', 'Administration', 'Marketing Spend', 'Profit',\n",
      "       'State_Florida', 'State_New York'],\n",
      "      dtype='object')\n"
     ]
    }
   ],
   "source": [
    "print(df.head())  # Displays the first few rows\n",
    "print(df.columns)  # Lists all column names\n"
   ]
  },
  {
   "cell_type": "code",
   "execution_count": 18,
   "id": "2991523f-7b45-4389-a2ba-dd235149dc39",
   "metadata": {},
   "outputs": [
    {
     "name": "stdout",
     "output_type": "stream",
     "text": [
      "   State_Florida  State_New York\n",
      "0          False            True\n",
      "1          False           False\n",
      "2           True           False\n",
      "3          False            True\n",
      "4           True           False\n"
     ]
    }
   ],
   "source": [
    "print(df[['State_Florida', 'State_New York']].head())\n"
   ]
  },
  {
   "cell_type": "markdown",
   "id": "55ee58c8-50e5-4e2c-8830-57bb63df913e",
   "metadata": {},
   "source": [
    "**Simple Linear Regression**\n",
    "***Objective: Predict Profit using a single independent variable (R&D Spend)***"
   ]
  },
  {
   "cell_type": "code",
   "execution_count": 27,
   "id": "233a1903-a1a0-419a-a74c-7a64f372df84",
   "metadata": {},
   "outputs": [],
   "source": [
    "#objective is predicting profit using a single independent variable (R&D Spend)\n",
    "X = df[['R&D Spend']]  \n",
    "Y = df['Profit']"
   ]
  },
  {
   "cell_type": "markdown",
   "id": "04af3dbd-1b70-439c-ac7c-33fe91a93be0",
   "metadata": {},
   "source": [
    "Split Data into Training and testing sets "
   ]
  },
  {
   "cell_type": "code",
   "execution_count": 28,
   "id": "ce0338e3-aa42-4a19-a7c1-79c52b3e8385",
   "metadata": {},
   "outputs": [],
   "source": [
    "X_train, X_test, Y_train, Y_test = train_test_split(X, Y, test_size=0.2, random_state=42)"
   ]
  },
  {
   "cell_type": "markdown",
   "id": "29da969b-2b5f-41ae-854a-45e48b738e70",
   "metadata": {},
   "source": [
    "Train the Model"
   ]
  },
  {
   "cell_type": "code",
   "execution_count": 29,
   "id": "8de6c94b-4b6b-4c67-82dc-a453bc622bbf",
   "metadata": {},
   "outputs": [
    {
     "data": {
      "text/html": [
       "<style>#sk-container-id-1 {\n",
       "  /* Definition of color scheme common for light and dark mode */\n",
       "  --sklearn-color-text: black;\n",
       "  --sklearn-color-line: gray;\n",
       "  /* Definition of color scheme for unfitted estimators */\n",
       "  --sklearn-color-unfitted-level-0: #fff5e6;\n",
       "  --sklearn-color-unfitted-level-1: #f6e4d2;\n",
       "  --sklearn-color-unfitted-level-2: #ffe0b3;\n",
       "  --sklearn-color-unfitted-level-3: chocolate;\n",
       "  /* Definition of color scheme for fitted estimators */\n",
       "  --sklearn-color-fitted-level-0: #f0f8ff;\n",
       "  --sklearn-color-fitted-level-1: #d4ebff;\n",
       "  --sklearn-color-fitted-level-2: #b3dbfd;\n",
       "  --sklearn-color-fitted-level-3: cornflowerblue;\n",
       "\n",
       "  /* Specific color for light theme */\n",
       "  --sklearn-color-text-on-default-background: var(--sg-text-color, var(--theme-code-foreground, var(--jp-content-font-color1, black)));\n",
       "  --sklearn-color-background: var(--sg-background-color, var(--theme-background, var(--jp-layout-color0, white)));\n",
       "  --sklearn-color-border-box: var(--sg-text-color, var(--theme-code-foreground, var(--jp-content-font-color1, black)));\n",
       "  --sklearn-color-icon: #696969;\n",
       "\n",
       "  @media (prefers-color-scheme: dark) {\n",
       "    /* Redefinition of color scheme for dark theme */\n",
       "    --sklearn-color-text-on-default-background: var(--sg-text-color, var(--theme-code-foreground, var(--jp-content-font-color1, white)));\n",
       "    --sklearn-color-background: var(--sg-background-color, var(--theme-background, var(--jp-layout-color0, #111)));\n",
       "    --sklearn-color-border-box: var(--sg-text-color, var(--theme-code-foreground, var(--jp-content-font-color1, white)));\n",
       "    --sklearn-color-icon: #878787;\n",
       "  }\n",
       "}\n",
       "\n",
       "#sk-container-id-1 {\n",
       "  color: var(--sklearn-color-text);\n",
       "}\n",
       "\n",
       "#sk-container-id-1 pre {\n",
       "  padding: 0;\n",
       "}\n",
       "\n",
       "#sk-container-id-1 input.sk-hidden--visually {\n",
       "  border: 0;\n",
       "  clip: rect(1px 1px 1px 1px);\n",
       "  clip: rect(1px, 1px, 1px, 1px);\n",
       "  height: 1px;\n",
       "  margin: -1px;\n",
       "  overflow: hidden;\n",
       "  padding: 0;\n",
       "  position: absolute;\n",
       "  width: 1px;\n",
       "}\n",
       "\n",
       "#sk-container-id-1 div.sk-dashed-wrapped {\n",
       "  border: 1px dashed var(--sklearn-color-line);\n",
       "  margin: 0 0.4em 0.5em 0.4em;\n",
       "  box-sizing: border-box;\n",
       "  padding-bottom: 0.4em;\n",
       "  background-color: var(--sklearn-color-background);\n",
       "}\n",
       "\n",
       "#sk-container-id-1 div.sk-container {\n",
       "  /* jupyter's `normalize.less` sets `[hidden] { display: none; }`\n",
       "     but bootstrap.min.css set `[hidden] { display: none !important; }`\n",
       "     so we also need the `!important` here to be able to override the\n",
       "     default hidden behavior on the sphinx rendered scikit-learn.org.\n",
       "     See: https://github.com/scikit-learn/scikit-learn/issues/21755 */\n",
       "  display: inline-block !important;\n",
       "  position: relative;\n",
       "}\n",
       "\n",
       "#sk-container-id-1 div.sk-text-repr-fallback {\n",
       "  display: none;\n",
       "}\n",
       "\n",
       "div.sk-parallel-item,\n",
       "div.sk-serial,\n",
       "div.sk-item {\n",
       "  /* draw centered vertical line to link estimators */\n",
       "  background-image: linear-gradient(var(--sklearn-color-text-on-default-background), var(--sklearn-color-text-on-default-background));\n",
       "  background-size: 2px 100%;\n",
       "  background-repeat: no-repeat;\n",
       "  background-position: center center;\n",
       "}\n",
       "\n",
       "/* Parallel-specific style estimator block */\n",
       "\n",
       "#sk-container-id-1 div.sk-parallel-item::after {\n",
       "  content: \"\";\n",
       "  width: 100%;\n",
       "  border-bottom: 2px solid var(--sklearn-color-text-on-default-background);\n",
       "  flex-grow: 1;\n",
       "}\n",
       "\n",
       "#sk-container-id-1 div.sk-parallel {\n",
       "  display: flex;\n",
       "  align-items: stretch;\n",
       "  justify-content: center;\n",
       "  background-color: var(--sklearn-color-background);\n",
       "  position: relative;\n",
       "}\n",
       "\n",
       "#sk-container-id-1 div.sk-parallel-item {\n",
       "  display: flex;\n",
       "  flex-direction: column;\n",
       "}\n",
       "\n",
       "#sk-container-id-1 div.sk-parallel-item:first-child::after {\n",
       "  align-self: flex-end;\n",
       "  width: 50%;\n",
       "}\n",
       "\n",
       "#sk-container-id-1 div.sk-parallel-item:last-child::after {\n",
       "  align-self: flex-start;\n",
       "  width: 50%;\n",
       "}\n",
       "\n",
       "#sk-container-id-1 div.sk-parallel-item:only-child::after {\n",
       "  width: 0;\n",
       "}\n",
       "\n",
       "/* Serial-specific style estimator block */\n",
       "\n",
       "#sk-container-id-1 div.sk-serial {\n",
       "  display: flex;\n",
       "  flex-direction: column;\n",
       "  align-items: center;\n",
       "  background-color: var(--sklearn-color-background);\n",
       "  padding-right: 1em;\n",
       "  padding-left: 1em;\n",
       "}\n",
       "\n",
       "\n",
       "/* Toggleable style: style used for estimator/Pipeline/ColumnTransformer box that is\n",
       "clickable and can be expanded/collapsed.\n",
       "- Pipeline and ColumnTransformer use this feature and define the default style\n",
       "- Estimators will overwrite some part of the style using the `sk-estimator` class\n",
       "*/\n",
       "\n",
       "/* Pipeline and ColumnTransformer style (default) */\n",
       "\n",
       "#sk-container-id-1 div.sk-toggleable {\n",
       "  /* Default theme specific background. It is overwritten whether we have a\n",
       "  specific estimator or a Pipeline/ColumnTransformer */\n",
       "  background-color: var(--sklearn-color-background);\n",
       "}\n",
       "\n",
       "/* Toggleable label */\n",
       "#sk-container-id-1 label.sk-toggleable__label {\n",
       "  cursor: pointer;\n",
       "  display: block;\n",
       "  width: 100%;\n",
       "  margin-bottom: 0;\n",
       "  padding: 0.5em;\n",
       "  box-sizing: border-box;\n",
       "  text-align: center;\n",
       "}\n",
       "\n",
       "#sk-container-id-1 label.sk-toggleable__label-arrow:before {\n",
       "  /* Arrow on the left of the label */\n",
       "  content: \"▸\";\n",
       "  float: left;\n",
       "  margin-right: 0.25em;\n",
       "  color: var(--sklearn-color-icon);\n",
       "}\n",
       "\n",
       "#sk-container-id-1 label.sk-toggleable__label-arrow:hover:before {\n",
       "  color: var(--sklearn-color-text);\n",
       "}\n",
       "\n",
       "/* Toggleable content - dropdown */\n",
       "\n",
       "#sk-container-id-1 div.sk-toggleable__content {\n",
       "  max-height: 0;\n",
       "  max-width: 0;\n",
       "  overflow: hidden;\n",
       "  text-align: left;\n",
       "  /* unfitted */\n",
       "  background-color: var(--sklearn-color-unfitted-level-0);\n",
       "}\n",
       "\n",
       "#sk-container-id-1 div.sk-toggleable__content.fitted {\n",
       "  /* fitted */\n",
       "  background-color: var(--sklearn-color-fitted-level-0);\n",
       "}\n",
       "\n",
       "#sk-container-id-1 div.sk-toggleable__content pre {\n",
       "  margin: 0.2em;\n",
       "  border-radius: 0.25em;\n",
       "  color: var(--sklearn-color-text);\n",
       "  /* unfitted */\n",
       "  background-color: var(--sklearn-color-unfitted-level-0);\n",
       "}\n",
       "\n",
       "#sk-container-id-1 div.sk-toggleable__content.fitted pre {\n",
       "  /* unfitted */\n",
       "  background-color: var(--sklearn-color-fitted-level-0);\n",
       "}\n",
       "\n",
       "#sk-container-id-1 input.sk-toggleable__control:checked~div.sk-toggleable__content {\n",
       "  /* Expand drop-down */\n",
       "  max-height: 200px;\n",
       "  max-width: 100%;\n",
       "  overflow: auto;\n",
       "}\n",
       "\n",
       "#sk-container-id-1 input.sk-toggleable__control:checked~label.sk-toggleable__label-arrow:before {\n",
       "  content: \"▾\";\n",
       "}\n",
       "\n",
       "/* Pipeline/ColumnTransformer-specific style */\n",
       "\n",
       "#sk-container-id-1 div.sk-label input.sk-toggleable__control:checked~label.sk-toggleable__label {\n",
       "  color: var(--sklearn-color-text);\n",
       "  background-color: var(--sklearn-color-unfitted-level-2);\n",
       "}\n",
       "\n",
       "#sk-container-id-1 div.sk-label.fitted input.sk-toggleable__control:checked~label.sk-toggleable__label {\n",
       "  background-color: var(--sklearn-color-fitted-level-2);\n",
       "}\n",
       "\n",
       "/* Estimator-specific style */\n",
       "\n",
       "/* Colorize estimator box */\n",
       "#sk-container-id-1 div.sk-estimator input.sk-toggleable__control:checked~label.sk-toggleable__label {\n",
       "  /* unfitted */\n",
       "  background-color: var(--sklearn-color-unfitted-level-2);\n",
       "}\n",
       "\n",
       "#sk-container-id-1 div.sk-estimator.fitted input.sk-toggleable__control:checked~label.sk-toggleable__label {\n",
       "  /* fitted */\n",
       "  background-color: var(--sklearn-color-fitted-level-2);\n",
       "}\n",
       "\n",
       "#sk-container-id-1 div.sk-label label.sk-toggleable__label,\n",
       "#sk-container-id-1 div.sk-label label {\n",
       "  /* The background is the default theme color */\n",
       "  color: var(--sklearn-color-text-on-default-background);\n",
       "}\n",
       "\n",
       "/* On hover, darken the color of the background */\n",
       "#sk-container-id-1 div.sk-label:hover label.sk-toggleable__label {\n",
       "  color: var(--sklearn-color-text);\n",
       "  background-color: var(--sklearn-color-unfitted-level-2);\n",
       "}\n",
       "\n",
       "/* Label box, darken color on hover, fitted */\n",
       "#sk-container-id-1 div.sk-label.fitted:hover label.sk-toggleable__label.fitted {\n",
       "  color: var(--sklearn-color-text);\n",
       "  background-color: var(--sklearn-color-fitted-level-2);\n",
       "}\n",
       "\n",
       "/* Estimator label */\n",
       "\n",
       "#sk-container-id-1 div.sk-label label {\n",
       "  font-family: monospace;\n",
       "  font-weight: bold;\n",
       "  display: inline-block;\n",
       "  line-height: 1.2em;\n",
       "}\n",
       "\n",
       "#sk-container-id-1 div.sk-label-container {\n",
       "  text-align: center;\n",
       "}\n",
       "\n",
       "/* Estimator-specific */\n",
       "#sk-container-id-1 div.sk-estimator {\n",
       "  font-family: monospace;\n",
       "  border: 1px dotted var(--sklearn-color-border-box);\n",
       "  border-radius: 0.25em;\n",
       "  box-sizing: border-box;\n",
       "  margin-bottom: 0.5em;\n",
       "  /* unfitted */\n",
       "  background-color: var(--sklearn-color-unfitted-level-0);\n",
       "}\n",
       "\n",
       "#sk-container-id-1 div.sk-estimator.fitted {\n",
       "  /* fitted */\n",
       "  background-color: var(--sklearn-color-fitted-level-0);\n",
       "}\n",
       "\n",
       "/* on hover */\n",
       "#sk-container-id-1 div.sk-estimator:hover {\n",
       "  /* unfitted */\n",
       "  background-color: var(--sklearn-color-unfitted-level-2);\n",
       "}\n",
       "\n",
       "#sk-container-id-1 div.sk-estimator.fitted:hover {\n",
       "  /* fitted */\n",
       "  background-color: var(--sklearn-color-fitted-level-2);\n",
       "}\n",
       "\n",
       "/* Specification for estimator info (e.g. \"i\" and \"?\") */\n",
       "\n",
       "/* Common style for \"i\" and \"?\" */\n",
       "\n",
       ".sk-estimator-doc-link,\n",
       "a:link.sk-estimator-doc-link,\n",
       "a:visited.sk-estimator-doc-link {\n",
       "  float: right;\n",
       "  font-size: smaller;\n",
       "  line-height: 1em;\n",
       "  font-family: monospace;\n",
       "  background-color: var(--sklearn-color-background);\n",
       "  border-radius: 1em;\n",
       "  height: 1em;\n",
       "  width: 1em;\n",
       "  text-decoration: none !important;\n",
       "  margin-left: 1ex;\n",
       "  /* unfitted */\n",
       "  border: var(--sklearn-color-unfitted-level-1) 1pt solid;\n",
       "  color: var(--sklearn-color-unfitted-level-1);\n",
       "}\n",
       "\n",
       ".sk-estimator-doc-link.fitted,\n",
       "a:link.sk-estimator-doc-link.fitted,\n",
       "a:visited.sk-estimator-doc-link.fitted {\n",
       "  /* fitted */\n",
       "  border: var(--sklearn-color-fitted-level-1) 1pt solid;\n",
       "  color: var(--sklearn-color-fitted-level-1);\n",
       "}\n",
       "\n",
       "/* On hover */\n",
       "div.sk-estimator:hover .sk-estimator-doc-link:hover,\n",
       ".sk-estimator-doc-link:hover,\n",
       "div.sk-label-container:hover .sk-estimator-doc-link:hover,\n",
       ".sk-estimator-doc-link:hover {\n",
       "  /* unfitted */\n",
       "  background-color: var(--sklearn-color-unfitted-level-3);\n",
       "  color: var(--sklearn-color-background);\n",
       "  text-decoration: none;\n",
       "}\n",
       "\n",
       "div.sk-estimator.fitted:hover .sk-estimator-doc-link.fitted:hover,\n",
       ".sk-estimator-doc-link.fitted:hover,\n",
       "div.sk-label-container:hover .sk-estimator-doc-link.fitted:hover,\n",
       ".sk-estimator-doc-link.fitted:hover {\n",
       "  /* fitted */\n",
       "  background-color: var(--sklearn-color-fitted-level-3);\n",
       "  color: var(--sklearn-color-background);\n",
       "  text-decoration: none;\n",
       "}\n",
       "\n",
       "/* Span, style for the box shown on hovering the info icon */\n",
       ".sk-estimator-doc-link span {\n",
       "  display: none;\n",
       "  z-index: 9999;\n",
       "  position: relative;\n",
       "  font-weight: normal;\n",
       "  right: .2ex;\n",
       "  padding: .5ex;\n",
       "  margin: .5ex;\n",
       "  width: min-content;\n",
       "  min-width: 20ex;\n",
       "  max-width: 50ex;\n",
       "  color: var(--sklearn-color-text);\n",
       "  box-shadow: 2pt 2pt 4pt #999;\n",
       "  /* unfitted */\n",
       "  background: var(--sklearn-color-unfitted-level-0);\n",
       "  border: .5pt solid var(--sklearn-color-unfitted-level-3);\n",
       "}\n",
       "\n",
       ".sk-estimator-doc-link.fitted span {\n",
       "  /* fitted */\n",
       "  background: var(--sklearn-color-fitted-level-0);\n",
       "  border: var(--sklearn-color-fitted-level-3);\n",
       "}\n",
       "\n",
       ".sk-estimator-doc-link:hover span {\n",
       "  display: block;\n",
       "}\n",
       "\n",
       "/* \"?\"-specific style due to the `<a>` HTML tag */\n",
       "\n",
       "#sk-container-id-1 a.estimator_doc_link {\n",
       "  float: right;\n",
       "  font-size: 1rem;\n",
       "  line-height: 1em;\n",
       "  font-family: monospace;\n",
       "  background-color: var(--sklearn-color-background);\n",
       "  border-radius: 1rem;\n",
       "  height: 1rem;\n",
       "  width: 1rem;\n",
       "  text-decoration: none;\n",
       "  /* unfitted */\n",
       "  color: var(--sklearn-color-unfitted-level-1);\n",
       "  border: var(--sklearn-color-unfitted-level-1) 1pt solid;\n",
       "}\n",
       "\n",
       "#sk-container-id-1 a.estimator_doc_link.fitted {\n",
       "  /* fitted */\n",
       "  border: var(--sklearn-color-fitted-level-1) 1pt solid;\n",
       "  color: var(--sklearn-color-fitted-level-1);\n",
       "}\n",
       "\n",
       "/* On hover */\n",
       "#sk-container-id-1 a.estimator_doc_link:hover {\n",
       "  /* unfitted */\n",
       "  background-color: var(--sklearn-color-unfitted-level-3);\n",
       "  color: var(--sklearn-color-background);\n",
       "  text-decoration: none;\n",
       "}\n",
       "\n",
       "#sk-container-id-1 a.estimator_doc_link.fitted:hover {\n",
       "  /* fitted */\n",
       "  background-color: var(--sklearn-color-fitted-level-3);\n",
       "}\n",
       "</style><div id=\"sk-container-id-1\" class=\"sk-top-container\"><div class=\"sk-text-repr-fallback\"><pre>LinearRegression()</pre><b>In a Jupyter environment, please rerun this cell to show the HTML representation or trust the notebook. <br />On GitHub, the HTML representation is unable to render, please try loading this page with nbviewer.org.</b></div><div class=\"sk-container\" hidden><div class=\"sk-item\"><div class=\"sk-estimator fitted sk-toggleable\"><input class=\"sk-toggleable__control sk-hidden--visually\" id=\"sk-estimator-id-1\" type=\"checkbox\" checked><label for=\"sk-estimator-id-1\" class=\"sk-toggleable__label fitted sk-toggleable__label-arrow fitted\">&nbsp;&nbsp;LinearRegression<a class=\"sk-estimator-doc-link fitted\" rel=\"noreferrer\" target=\"_blank\" href=\"https://scikit-learn.org/1.5/modules/generated/sklearn.linear_model.LinearRegression.html\">?<span>Documentation for LinearRegression</span></a><span class=\"sk-estimator-doc-link fitted\">i<span>Fitted</span></span></label><div class=\"sk-toggleable__content fitted\"><pre>LinearRegression()</pre></div> </div></div></div></div>"
      ],
      "text/plain": [
       "LinearRegression()"
      ]
     },
     "execution_count": 29,
     "metadata": {},
     "output_type": "execute_result"
    }
   ],
   "source": [
    "model = LinearRegression()\n",
    "model.fit(X_train, Y_train)"
   ]
  },
  {
   "cell_type": "markdown",
   "id": "a455064a-cb7f-447f-9428-c8d2c12b2ec0",
   "metadata": {},
   "source": [
    "Making the prediction "
   ]
  },
  {
   "cell_type": "code",
   "execution_count": 30,
   "id": "084a5e08-5180-4dcf-ad90-f76d93f45408",
   "metadata": {},
   "outputs": [],
   "source": [
    "y_pred = model.predict(X_test)"
   ]
  },
  {
   "cell_type": "markdown",
   "id": "46ce1ce6-2b6e-40e4-8633-076f5360ae6b",
   "metadata": {},
   "source": [
    "Evaluate the model "
   ]
  },
  {
   "cell_type": "code",
   "execution_count": 31,
   "id": "42a35509-5a58-432e-add8-6822a00e451f",
   "metadata": {},
   "outputs": [
    {
     "name": "stdout",
     "output_type": "stream",
     "text": [
      "MAE: 6077.36\n",
      "MSE: 59510962.81\n",
      "RMSE: 7714.33\n",
      "R2 Score: 0.93\n"
     ]
    }
   ],
   "source": [
    "mae = mean_absolute_error(y_test, y_pred)  \n",
    "mse = mean_squared_error(y_test, y_pred)  \n",
    "rmse = np.sqrt(mse)  \n",
    "r2 = r2_score(y_test, y_pred)  \n",
    "\n",
    "print(f\"MAE: {mae:.2f}\")  \n",
    "print(f\"MSE: {mse:.2f}\")  \n",
    "print(f\"RMSE: {rmse:.2f}\")  \n",
    "print(f\"R2 Score: {r2:.2f}\")"
   ]
  },
  {
   "cell_type": "markdown",
   "id": "cd045f5d-fa1d-4803-8286-23f499d5c1ed",
   "metadata": {},
   "source": [
    "Visualize the regression line"
   ]
  },
  {
   "cell_type": "code",
   "execution_count": 32,
   "id": "29f8c9da-b4aa-4a7a-84b4-e21b59377795",
   "metadata": {},
   "outputs": [
    {
     "data": {
      "image/png": "[encoded data removed]",
      "text/plain": [
       "<Figure size 640x480 with 1 Axes>"
      ]
     },
     "metadata": {},
     "output_type": "display_data"
    }
   ],
   "source": [
    "plt.scatter(X_test, y_test, color='blue', label='Actual Data')  \n",
    "plt.plot(X_test, y_pred, color='red', linewidth=2, label='Regression Line')  \n",
    "plt.xlabel(\"R&D Spend\")  \n",
    "plt.ylabel(\"Profit\")  \n",
    "plt.title(\"Simple Linear Regression\")  \n",
    "plt.legend()  \n",
    "plt.show()"
   ]
  },
  {
   "cell_type": "markdown",
   "id": "b4a4e37c-cdb9-42ac-9f16-10c91b3cfc89",
   "metadata": {},
   "source": [
    "📌 Final Interpretation  \n",
    "\n",
    "- **Strong Model Fit (R² = 0.93)**:  \n",
    "  The high R² score of **0.93** suggests that **93% of the variance in Profit** is explained by **R&D Spend**, making it a strong predictor. However, R² alone doesn't guarantee a perfect model—it only measures the model's fit to the training data.  \n",
    "\n",
    "- **Prediction Accuracy (RMSE = 7714.33)**:  \n",
    "  The relatively low **Root Mean Squared Error (RMSE) of 7,714** indicates that the average prediction error is around **$7,714**, which is small compared to the overall range of **Profit values** in the dataset. A lower RMSE means the model's predictions are fairly accurate.  \n",
    "\n",
    "- **Visual Confirmation of a Linear Relationship**:  \n",
    "  The **regression line (red)** closely follows the trend of the **actual data points (blue)**, confirming a **strong linear relationship** between **R&D Spend** and **Profit**. This supports the assumption that a **linear model** is appropriate for predicting profit.  \n",
    "\n",
    "---\n",
    "**Conclusion**:  \n",
    "The model performs well in predicting profit based on R&D spend, showing a strong linear relationship and reasonable error margin. However, further analysis (e.g., checking for outliers, considering additional factors) may improve the model.  \n"
   ]
  },
  {
   "cell_type": "markdown",
   "id": "64a1ff2b-7851-4b41-86bd-5e1f1c5ce2b6",
   "metadata": {},
   "source": [
    "**Multiple Linear Regression**\n",
    "****Objective: Predict Profit using multiple independent variables (R&D Spend, Administration, Marketing Spend, State)****."
   ]
  },
  {
   "cell_type": "markdown",
   "id": "f5de04ae-e6a2-45eb-a14d-0f0dde8a1371",
   "metadata": {},
   "source": [
    "*Step 1: Select Features and Target Variable*"
   ]
  },
  {
   "cell_type": "code",
   "execution_count": 33,
   "id": "201f1df2-e351-402a-a57e-8e6319179b7a",
   "metadata": {},
   "outputs": [],
   "source": [
    "# Multiple Linear Regression (Using R&D Spend, Administration, and Marketing Spend)\n",
    "X_multi = df[['R&D Spend', 'Administration', 'Marketing Spend','State_Florida']]\n",
    "y_multi = df['Profit']"
   ]
  },
  {
   "cell_type": "markdown",
   "id": "cdb000de-b1f9-46ca-a1d4-c4b9be859cca",
   "metadata": {},
   "source": [
    "*Step 2: Train and Evaluate the model*"
   ]
  },
  {
   "cell_type": "code",
   "execution_count": 39,
   "id": "cf6bf886-8c6f-492e-ae85-80f7b29471f3",
   "metadata": {},
   "outputs": [
    {
     "name": "stdout",
     "output_type": "stream",
     "text": [
      "Mean Absolute Error (MAE): 6961.49\n",
      "Mean Squared Error (MSE): 82010370.81\n",
      "Root Mean Squared Error (RMSE): 9055.96\n",
      "R² Score: 0.90\n"
     ]
    }
   ],
   "source": [
    "\n",
    "# Splitting the dataset into training and testing sets (80% train, 20% test)\n",
    "X_train_m, X_test_m, y_train_m, y_test_m = train_test_split(X_multi, y_multi, test_size=0.2, random_state=42)\n",
    "\n",
    "# Initializing a Linear Regression model\n",
    "model_multi = LinearRegression()\n",
    "\n",
    "# Training the model using the training dataset\n",
    "model_multi.fit(X_train_m, y_train_m)\n",
    "\n",
    "# Making predictions on the test dataset\n",
    "y_pred_multi = model_multi.predict(X_test_m)\n",
    "\n",
    "# Calculating evaluation metrics\n",
    "mae_multi = mean_absolute_error(y_test_m, y_pred_multi)  # Mean Absolute Error\n",
    "mse_multi = mean_squared_error(y_test_m, y_pred_multi)  # Mean Squared Error\n",
    "rmse_multi = np.sqrt(mse_multi)  # Root Mean Squared Error\n",
    "r2_multi = r2_score(y_test_m, y_pred_multi)  # R-squared score (coefficient of determination)\n",
    "# Display evaluation metrics\n",
    "print(f\"Mean Absolute Error (MAE): {mae_multi:.2f}\")\n",
    "print(f\"Mean Squared Error (MSE): {mse_multi:.2f}\")\n",
    "print(f\"Root Mean Squared Error (RMSE): {rmse_multi:.2f}\")\n",
    "print(f\"R² Score: {r2_multi:.2f}\")\n"
   ]
  },
  {
   "cell_type": "markdown",
   "id": "60835994-c974-493f-90c1-3d5095fce0d5",
   "metadata": {},
   "source": [
    "Interpretation:\n",
    "\n",
    "R² Score (0.90):\n",
    "\n",
    "The model explains 90% of the variance in Profit using R&D Spend, Administration, Marketing Spend, and State (Florida).\n",
    "This is a strong indication that these independent variables collectively have a significant impact on predicting Profit.\n",
    "However, a high R² doesn’t guarantee a perfect model.\n",
    "\n",
    "RMSE (9055.96) & MAE (6961.49):\n",
    "\n",
    "MAE means that, on average, the predictions are off by $6,961.\n",
    "RMSE (square root of MSE) is $9,055.96, meaning that while the model performs well, there may be some larger errors or outliers influencing the predictions.\n",
    "\n",
    "MSE (82,010,370.81):\n",
    "\n",
    "Since MSE is in squared units, it’s harder to interpret directly.\n",
    "A lower MSE is better, but RMSE is a more useful metric since it's in the same unit as Profit."
   ]
  },
  {
   "cell_type": "markdown",
   "id": "8f2f1828-bd2c-4653-bb62-0d031d6e6e3f",
   "metadata": {},
   "source": [
    "**Polynomial Regression**\n",
    "Objective: Model a non-linear relationship between R&D Spend and Profit"
   ]
  },
  {
   "cell_type": "markdown",
   "id": "44aec5b2-e6eb-4459-a888-e16c642bb3b9",
   "metadata": {},
   "source": [
    "Transform Data for Polynomial Regression"
   ]
  },
  {
   "cell_type": "code",
   "execution_count": 42,
   "id": "ccda2d3c-40be-47a2-8fd4-656d877dd228",
   "metadata": {},
   "outputs": [],
   "source": [
    "# Polynomial Regression (Model a non-linear relationship with R&D Spend)\n",
    "degree = 2\n",
    "poly = PolynomialFeatures(degree=degree)\n",
    "X_poly = poly.fit_transform(df[['R&D Spend']])"
   ]
  },
  {
   "cell_type": "markdown",
   "id": "20928e3b-6f4c-4041-aa0e-e60821621991",
   "metadata": {},
   "source": [
    "Train and Evaluate the Model"
   ]
  },
  {
   "cell_type": "code",
   "execution_count": 43,
   "id": "c77511f0-f5a7-4fda-8c4e-29ade2477bea",
   "metadata": {},
   "outputs": [],
   "source": [
    "model_poly = LinearRegression()\n",
    "model_poly.fit(X_poly, y)\n",
    "y_pred_poly = model_poly.predict(X_poly)"
   ]
  },
  {
   "cell_type": "markdown",
   "id": "8a77beaf-d5ac-4932-8f45-9fd231036a97",
   "metadata": {},
   "source": [
    "Visualize the Curve"
   ]
  },
  {
   "cell_type": "code",
   "execution_count": 44,
   "id": "54551f10-1750-4825-afe1-be2d086075d7",
   "metadata": {},
   "outputs": [
    {
     "data": {
      "image/png": "[encoded data removed]",
      "text/plain": [
       "<Figure size 640x480 with 1 Axes>"
      ]
     },
     "metadata": {},
     "output_type": "display_data"
    }
   ],
   "source": [
    "plt.scatter(df['R&D Spend'], y, color='blue', label='Actual Data')  \n",
    "plt.scatter(df['R&D Spend'], y_pred_poly, color='red', label='Polynomial Predictions')  \n",
    "plt.xlabel(\"R&D Spend\")  \n",
    "plt.ylabel(\"Profit\")  \n",
    "plt.title(\"Polynomial Regression (Degree = 2)\")  \n",
    "plt.legend()  \n",
    "plt.show()"
   ]
  },
  {
   "cell_type": "markdown",
   "id": "bae8c13f-9c54-40f0-b483-5be137b4bbb2",
   "metadata": {},
   "source": [
    "Interpretation\n",
    "\n",
    "The Polynomial Regression model (degree = 2) provides a better fit than Simple Linear Regression by capturing the non-linear relationship between R&D Spend and Profit, as seen in the close alignment between the red (predicted) and blue (actual) points. While minor deviations exist, the model effectively follows the data trend, suggesting improved accuracy"
   ]
  }
 ],
 "metadata": {
  "kernelspec": {
   "display_name": "Python 3 (ipykernel)",
   "language": "python",
   "name": "python3"
  },
  "language_info": {
   "codemirror_mode": {
    "name": "ipython",
    "version": 3
   },
   "file_extension": ".py",
   "mimetype": "text/x-python",
   "name": "python",
   "nbconvert_exporter": "python",
   "pygments_lexer": "ipython3",
   "version": "3.12.6"
  }
 },
 "nbformat": 4,
 "nbformat_minor": 5
}
